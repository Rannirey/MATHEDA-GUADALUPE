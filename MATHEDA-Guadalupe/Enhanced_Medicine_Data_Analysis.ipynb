{
 "cells": [
  {
   "cell_type": "markdown",
   "id": "56343d19",
   "metadata": {},
   "source": [
    "# Medicine Data Analysis: Cleaning, Exploration, and Visualization\n",
    "\n",
    "This notebook performs data cleaning, analysis, and visualization on the medicine dataset."
   ]
  },
  {
   "cell_type": "code",
   "execution_count": null,
   "id": "d85de5e2",
   "metadata": {},
   "outputs": [],
   "source": [
    "import numpy as np\n",
    "import pandas as pd\n",
    "import matplotlib.pyplot as plt\n",
    "import seaborn as sns\n"
   ]
  },
  {
   "cell_type": "code",
   "execution_count": null,
   "id": "5600e1b0",
   "metadata": {},
   "outputs": [],
   "source": [
    "# Load dataset\n",
    "medicine_path = \"medicine.csv\"\n",
    "df_medicine = pd.read_csv(medicine_path, encoding=\"utf-8\")\n",
    "df_medicine.head()"
   ]
  },
  {
   "cell_type": "code",
   "execution_count": null,
   "id": "321b3fd6",
   "metadata": {},
   "outputs": [],
   "source": [
    "# Data Cleaning\n",
    "# Filling missing numerical values with the mean\n",
    "num_cols = df_medicine.select_dtypes(include=[np.number]).columns\n",
    "df_medicine[num_cols] = df_medicine[num_cols].fillna(df_medicine[num_cols].mean())\n",
    "\n",
    "# Filling missing categorical values with the most frequent value (mode)\n",
    "cat_cols = df_medicine.select_dtypes(include=[object]).columns\n",
    "df_medicine[cat_cols] = df_medicine[cat_cols].fillna(df_medicine[cat_cols].mode().iloc[0])\n",
    "\n",
    "# Removing duplicates\n",
    "df_medicine = df_medicine.drop_duplicates()\n",
    "df_medicine.info()"
   ]
  },
  {
   "cell_type": "code",
   "execution_count": null,
   "id": "46bd7773",
   "metadata": {},
   "outputs": [],
   "source": [
    "# Function to plot top and bottom categories\n",
    "def plot_top_bottom(data, column, title, xlabel, top_n=10):\n",
    "    top_values = data[column].value_counts().head(top_n)\n",
    "    bottom_values = data[column].value_counts().tail(top_n)\n",
    "\n",
    "    fig, axes = plt.subplots(1, 2, figsize=(14, 5))\n",
    "\n",
    "    sns.barplot(x=top_values.values, y=top_values.index, ax=axes[0], palette=\"viridis\")\n",
    "    axes[0].set_title(f\"Top {top_n} {title}\")\n",
    "    axes[0].set_xlabel(xlabel)\n",
    "\n",
    "    sns.barplot(x=bottom_values.values, y=bottom_values.index, ax=axes[1], palette=\"coolwarm\")\n",
    "    axes[1].set_title(f\"Bottom {top_n} {title}\")\n",
    "    axes[1].set_xlabel(xlabel)\n",
    "\n",
    "    plt.tight_layout()\n",
    "    plt.show()"
   ]
  },
  {
   "cell_type": "code",
   "execution_count": null,
   "id": "228e3b35",
   "metadata": {},
   "outputs": [],
   "source": [
    "# Plot distribution of Package Sizes\n",
    "plt.figure(figsize=(10, 5))\n",
    "sns.histplot(df_medicine[\"Package Size\"].astype(str).apply(lambda x: ''.join(filter(str.isdigit, x))).astype(float),\n",
    "             bins=30, kde=True, color=\"blue\")\n",
    "plt.title(\"Distribution of Package Sizes\")\n",
    "plt.xlabel(\"Package Size\")\n",
    "plt.ylabel(\"Frequency\")\n",
    "plt.show()"
   ]
  },
  {
   "cell_type": "code",
   "execution_count": null,
   "id": "20bf8b9a",
   "metadata": {},
   "outputs": [],
   "source": [
    "# Top and Bottom Dosage Forms\n",
    "plot_top_bottom(df_medicine, \"dosage form\", \"Dosage Forms\", \"Count\")"
   ]
  },
  {
   "cell_type": "code",
   "execution_count": null,
   "id": "83f08eef",
   "metadata": {},
   "outputs": [],
   "source": [
    "# Top and Bottom Manufacturers\n",
    "plot_top_bottom(df_medicine, \"manufacturer\", \"Manufacturers\", \"Brand Count\")"
   ]
  },
  {
   "cell_type": "code",
   "execution_count": null,
   "id": "3da1f79a",
   "metadata": {},
   "outputs": [],
   "source": [
    "# Top and Bottom Generic Medicines\n",
    "plot_top_bottom(df_medicine, \"generic\", \"Generic Medicines\", \"Count\")"
   ]
  },
  {
   "cell_type": "markdown",
   "id": "6e7d5522",
   "metadata": {},
   "source": [
    "# Medicine Data Analysis\n",
    "### Name: Ranni Rey I. Guadalupe\n",
    "### Section: BSCPE 2-A\n",
    "\n",
    "This notebook performs extensive data analysis on the medicine dataset, including data cleaning, comparisons, and various visualizations."
   ]
  },
  {
   "cell_type": "code",
   "execution_count": null,
   "id": "22acefcb",
   "metadata": {},
   "outputs": [],
   "source": [
    "# Scatter Plot: Package Size vs. Strength\n",
    "plt.figure(figsize=(10, 5))\n",
    "sns.scatterplot(x=df_medicine[\"Package Size\"].astype(str).apply(lambda x: ''.join(filter(str.isdigit, x))).astype(float),\n",
    "                y=df_medicine[\"strength\"].astype(str).apply(lambda x: ''.join(filter(str.isdigit, x))).astype(float),\n",
    "                alpha=0.5, color='red')\n",
    "plt.title(\"Scatter Plot: Package Size vs. Strength\")\n",
    "plt.xlabel(\"Package Size\")\n",
    "plt.ylabel(\"Strength\")\n",
    "plt.show()"
   ]
  },
  {
   "cell_type": "code",
   "execution_count": null,
   "id": "053f80e1",
   "metadata": {},
   "outputs": [],
   "source": [
    "# Pie Chart: Distribution of Medicine Types\n",
    "plt.figure(figsize=(8, 8))\n",
    "df_medicine[\"type\"].value_counts().plot.pie(autopct=\"%1.1f%%\", startangle=90, cmap='coolwarm')\n",
    "plt.title(\"Distribution of Medicine Types\")\n",
    "plt.ylabel(\"\")\n",
    "plt.show()"
   ]
  },
  {
   "cell_type": "code",
   "execution_count": null,
   "id": "78652de1",
   "metadata": {},
   "outputs": [],
   "source": [
    "# Correlation Heatmap\n",
    "plt.figure(figsize=(10, 6))\n",
    "sns.heatmap(df_medicine.corr(numeric_only=True), annot=True, cmap='coolwarm', fmt='.2f')\n",
    "plt.title(\"Correlation Heatmap of Numeric Features\")\n",
    "plt.show()"
   ]
  },
  {
   "cell_type": "code",
   "execution_count": null,
   "id": "ee50aabd",
   "metadata": {},
   "outputs": [],
   "source": [
    "# Countplot: Most Common Manufacturers\n",
    "plt.figure(figsize=(12, 5))\n",
    "sns.countplot(y=df_medicine[\"manufacturer\"], order=df_medicine[\"manufacturer\"].value_counts().index[:10], palette=\"viridis\")\n",
    "plt.title(\"Top 10 Most Common Manufacturers\")\n",
    "plt.xlabel(\"Count\")\n",
    "plt.ylabel(\"Manufacturer\")\n",
    "plt.show()"
   ]
  },
  {
   "cell_type": "code",
   "execution_count": null,
   "id": "96234d53",
   "metadata": {},
   "outputs": [],
   "source": [
    "# Boxplot: Strength Distribution by Dosage Form\n",
    "plt.figure(figsize=(12, 6))\n",
    "sns.boxplot(x=df_medicine[\"dosage form\"],\n",
    "            y=df_medicine[\"strength\"].astype(str).apply(lambda x: ''.join(filter(str.isdigit, x))).astype(float),\n",
    "            palette=\"Set2\")\n",
    "plt.xticks(rotation=90)\n",
    "plt.title(\"Strength Distribution by Dosage Form\")\n",
    "plt.xlabel(\"Dosage Form\")\n",
    "plt.ylabel(\"Strength\")\n",
    "plt.show()"
   ]
  }
 ],
 "metadata": {},
 "nbformat": 4,
 "nbformat_minor": 5
}
